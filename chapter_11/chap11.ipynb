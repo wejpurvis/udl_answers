{
 "cells": [
  {
   "cell_type": "markdown",
   "metadata": {},
   "source": [
    "Consider the softmax operation:\n",
    "\n",
    "\\begin{equation*}\n",
    "        y_{i} = \\text{softmax}_{i}[\\mathbf{z}] = \\frac{\\text{exp}(z_{i})}{\\sum_{j=1}^{5}\\text{exp}(z_{j})}\n",
    "\\end{equation*}\n",
    "\n",
    "in the case where there are five inputs with values $z_{1} = -3$, $z_{2} = 1$, $z_{3} = 100$, $z_{4} = 5$, and $z_{5} = -1$. Compute the $25$ derivatives $\\partial y_{i}/\\partial z_{j}$. for all $i, j \\in \\{1,2,3,4,5\\}$. What do you conclude?"
   ]
  },
  {
   "cell_type": "code",
   "execution_count": 4,
   "metadata": {},
   "outputs": [
    {
     "name": "stdout",
     "output_type": "stream",
     "text": [
      "dy_1/dz_1 = 5.0345753587649823e-45\n",
      "dy_1/dz_2 = -5.091070808950109e-88\n",
      "dy_1/dz_3 = -5.0345753587649823e-45\n",
      "dy_1/dz_4 = -2.7796304785641908e-86\n",
      "dy_1/dz_5 = -6.890015099069139e-89\n",
      "dy_2/dz_1 = -5.091070808950109e-88\n",
      "dy_2/dz_2 = 1.0112214926104484e-43\n",
      "dy_2/dz_3 = -1.0112214926104484e-43\n",
      "dy_2/dz_4 = -5.583037061001885e-85\n",
      "dy_2/dz_5 = -1.3838965267367371e-87\n",
      "dy_3/dz_1 = -5.0345753587649823e-45\n",
      "dy_3/dz_2 = -1.0112214926104484e-43\n",
      "dy_3/dz_3 = 0.0\n",
      "dy_3/dz_4 = -5.5210822770285325e-42\n",
      "dy_3/dz_5 = -1.368539471173853e-44\n",
      "dy_4/dz_1 = -2.7796304785641908e-86\n",
      "dy_4/dz_2 = -5.583037061001885e-85\n",
      "dy_4/dz_3 = -5.5210822770285325e-42\n",
      "dy_4/dz_4 = 5.5210822770285325e-42\n",
      "dy_4/dz_5 = -7.55581901971196e-86\n",
      "dy_5/dz_1 = -6.890015099069139e-89\n",
      "dy_5/dz_2 = -1.3838965267367371e-87\n",
      "dy_5/dz_3 = -1.368539471173853e-44\n",
      "dy_5/dz_4 = -7.55581901971196e-86\n",
      "dy_5/dz_5 = 1.368539471173853e-44\n"
     ]
    }
   ],
   "source": [
    "import numpy as np\n",
    "\n",
    "# Define five input values\n",
    "z1 = -2\n",
    "z2 = 1\n",
    "z3 = 100\n",
    "z4 = 5\n",
    "z5 = -1\n",
    "\n",
    "# Define softmax function\n",
    "def softmax_i(zi, z):\n",
    "    return np.exp(zi) / np.sum(np.exp(z))\n",
    "\n",
    "inputs = [z1, z2, z3, z4, z5]\n",
    "\n",
    "# Calculate 25 derivatives deltay_i/deltaz_j\n",
    "for i in range(5):\n",
    "    for j in range(5):\n",
    "        if i == j:\n",
    "            di_dj = softmax_i(inputs[i], inputs) * (1 - softmax_i(inputs[i], inputs))\n",
    "            print(f\"dy_{i+1}/dz_{j+1} = {di_dj}\")\n",
    "        else:\n",
    "            di_dj = -softmax_i(inputs[i], inputs) * softmax_i(inputs[j], inputs)\n",
    "            print(f\"dy_{i+1}/dz_{j+1} = {di_dj}\")"
   ]
  }
 ],
 "metadata": {
  "kernelspec": {
   "display_name": "m2_wp289",
   "language": "python",
   "name": "python3"
  },
  "language_info": {
   "codemirror_mode": {
    "name": "ipython",
    "version": 3
   },
   "file_extension": ".py",
   "mimetype": "text/x-python",
   "name": "python",
   "nbconvert_exporter": "python",
   "pygments_lexer": "ipython3",
   "version": "3.12.2"
  }
 },
 "nbformat": 4,
 "nbformat_minor": 2
}
